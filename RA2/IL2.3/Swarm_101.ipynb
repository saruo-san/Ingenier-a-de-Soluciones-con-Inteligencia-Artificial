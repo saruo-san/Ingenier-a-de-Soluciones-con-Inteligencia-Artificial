{
  "cells": [
    {
      "cell_type": "markdown",
      "metadata": {
        "colab_type": "text",
        "id": "view-in-github"
      },
      "source": [
        "# Swarm 101 - Tutorial Adaptado\n",
        "## Configuración para Variables de Entorno Locales\n",
        "\n",
        "Este notebook ha sido adaptado para usar las variables de entorno específicas del proyecto."
      ]
    },
    {
      "cell_type": "markdown",
      "metadata": {
        "id": "xzUsjf07PUws"
      },
      "source": [
        "### Instalando la librería de Swarm y configurando variables de entorno"
      ]
    },
    {
      "cell_type": "code",
      "execution_count": null,
      "metadata": {
        "id": "qwkICu8IO-xz"
      },
      "outputs": [],
      "source": [
        "# Instalar la librería de Swarm\n",
        "%pip install git+https://github.com/openai/swarm.git\n",
        "\n",
        "# Instalar dependencias adicionales si es necesario\n",
        "%pip install python-dotenv"
      ]
    },
    {
      "cell_type": "code",
      "execution_count": null,
      "metadata": {
        "id": "tsI_VloKPD1r"
      },
      "outputs": [],
      "source": [
        "# Load environment variables from .env file\n",
        "import os\n",
        "\n",
        "try:\n",
        "    from dotenv import load_dotenv\n",
        "    load_dotenv()\n",
        "except ImportError:\n",
        "    print(\"⚠️ python-dotenv no está instalado. Instálalo con: pip install python-dotenv\")\n",
        "    exit(1)\n",
        "\n",
        "# Obtener variables de entorno\n",
        "github_token = os.getenv(\"GITHUB_TOKEN\")\n",
        "github_base_url = os.getenv(\"GITHUB_BASE_URL\", \"https://models.inference.ai.azure.com\")\n",
        "\n",
        "if not github_token:\n",
        "    print(\"❌ GITHUB_TOKEN no está configurado. Por favor verifica tu archivo .env\")\n",
        "    print(\"💡 Tu archivo .env debe contener: GITHUB_TOKEN=tu_token_aqui\")\n",
        "    exit(1)\n",
        "\n",
        "# Configurar la API key para Swarm (usando el token de GitHub)\n",
        "os.environ[\"OPENAI_API_KEY\"] = github_token\n",
        "\n",
        "print(\"✅ Variables de entorno configuradas correctamente\")"
      ]
    },
    {
      "cell_type": "markdown",
      "metadata": {},
      "source": [
        "### Configuración del archivo .env\n",
        "\n",
        "Para que este notebook funcione correctamente, necesitas crear un archivo `.env` en la raíz del proyecto con las siguientes variables:\n",
        "\n",
        "```bash\n",
        "# Archivo .env\n",
        "GITHUB_TOKEN=tu_token_de_github_aqui\n",
        "GITHUB_BASE_URL=https://models.inference.ai.azure.com\n",
        "```\n",
        "\n",
        "**Nota:** El `GITHUB_TOKEN` debe ser un token válido de GitHub con los permisos necesarios para acceder a los modelos de IA.\n"
      ]
    },
    {
      "cell_type": "code",
      "execution_count": null,
      "metadata": {},
      "outputs": [],
      "source": [
        "# Verificar configuración\n",
        "print(f\"🔗 Base URL configurada: {github_base_url}\")\n",
        "print(f\"🔑 Token configurado: {'*' * 10 + github_token[-4:] if github_token else 'No configurado'}\")\n"
      ]
    },
    {
      "cell_type": "code",
      "execution_count": null,
      "metadata": {},
      "outputs": [],
      "source": [
        "# Importar Swarm y crear cliente\n",
        "from swarm import Swarm, Agent\n",
        "\n",
        "# Creamos el cliente de Swarm\n",
        "client = Swarm()\n",
        "\n",
        "print(\"✅ Cliente de Swarm inicializado correctamente\")\n"
      ]
    },
    {
      "cell_type": "markdown",
      "metadata": {
        "id": "sSvOJqMBPc9P"
      },
      "source": [
        "### Creando nuestro primer agente Swarm\n"
      ]
    },
    {
      "cell_type": "code",
      "execution_count": null,
      "metadata": {
        "id": "vljemxy6QNb7"
      },
      "outputs": [],
      "source": [
        "from swarm import Swarm, Agent\n",
        "# Creamos el cliente de Swarm\n",
        "client = Swarm()"
      ]
    },
    {
      "cell_type": "code",
      "execution_count": null,
      "metadata": {
        "id": "GrFzjPygPTck"
      },
      "outputs": [],
      "source": [
        "# Creamos nuestro primer agente\n",
        "agent = Agent(\n",
        "    name=\"Agente Básico\",\n",
        "    instructions=\"Eres un agente amigable que hace chistes divertidos de acuerdo al tema que el usuario te diga.\",\n",
        ")\n",
        "\n",
        "# Probamos el agente\n",
        "messages = [{\"role\": \"user\", \"content\": \"Borrachos\"}]\n",
        "response = client.run(agent=agent, messages=messages)\n",
        "\n",
        "print(response.messages[-1][\"content\"])"
      ]
    },
    {
      "cell_type": "markdown",
      "metadata": {
        "id": "tHFjPVgeQY7V"
      },
      "source": [
        "## Uso de agentes"
      ]
    },
    {
      "cell_type": "code",
      "execution_count": null,
      "metadata": {
        "colab": {
          "base_uri": "https://localhost:8080/"
        },
        "id": "OxsnT8TGQbnB",
        "outputId": "82eeac90-e65d-4f07-b9f9-690f63e30dab"
      },
      "outputs": [
        {
          "name": "stdout",
          "output_type": "stream",
          "text": [
            "D'oh! Just sitting here eating donuts and thinking about Duff Beer. What's up with you?\n"
          ]
        }
      ],
      "source": [
        "english_agent = Agent(\n",
        "    name=\"English Agent\",\n",
        "    instructions=\"You only speak English as homer simpson\",\n",
        ")\n",
        "\n",
        "spanish_agent = Agent(\n",
        "    name=\"Spanish Agent\",\n",
        "    instructions=\"You only speak Spanish as a pirate\",\n",
        ")\n",
        "\n",
        "\n",
        "def transfer_to_spanish_agent():\n",
        "    \"\"\"Transfer spanish speaking users immediately.\"\"\"\n",
        "    return spanish_agent\n",
        "\n",
        "\n",
        "english_agent.functions.append(transfer_to_spanish_agent)\n",
        "messages = [{\"role\": \"user\", \"content\": \"Hello, what's up?\"}]\n",
        "response = client.run(agent=english_agent, messages=messages)\n",
        "\n",
        "\n",
        "print(response.messages[-1][\"content\"])"
      ]
    },
    {
      "cell_type": "code",
      "execution_count": null,
      "metadata": {
        "colab": {
          "base_uri": "https://localhost:8080/",
          "height": 187
        },
        "id": "9n-f0FLqQeGf",
        "outputId": "7f30651f-fbd2-49fe-f48e-6df511bc6731"
      },
      "outputs": [
        {
          "data": {
            "text/html": [
              "<div style=\"max-width:800px; border: 1px solid var(--colab-border-color);\"><style>\n",
              "      pre.function-repr-contents {\n",
              "        overflow-x: auto;\n",
              "        padding: 8px 12px;\n",
              "        max-height: 500px;\n",
              "      }\n",
              "\n",
              "      pre.function-repr-contents.function-repr-contents-collapsed {\n",
              "        cursor: pointer;\n",
              "        max-height: 100px;\n",
              "      }\n",
              "    </style>\n",
              "    <pre style=\"white-space: initial; background:\n",
              "         var(--colab-secondary-surface-color); padding: 8px 12px;\n",
              "         border-bottom: 1px solid var(--colab-border-color);\"><b>swarm.types.Response</b><br/>def __init__(self, /, **data: Any) -&gt; None</pre><pre class=\"function-repr-contents function-repr-contents-collapsed\" style=\"\"><a class=\"filepath\" style=\"display:none\" href=\"#\">/usr/local/lib/python3.10/dist-packages/swarm/types.py</a>Usage docs: https://docs.pydantic.dev/2.9/concepts/models/\n",
              "\n",
              "A base class for creating Pydantic models.\n",
              "\n",
              "Attributes:\n",
              "    __class_vars__: The names of the class variables defined on the model.\n",
              "    __private_attributes__: Metadata about the private attributes of the model.\n",
              "    __signature__: The synthesized `__init__` [`Signature`][inspect.Signature] of the model.\n",
              "\n",
              "    __pydantic_complete__: Whether model building is completed, or if there are still undefined fields.\n",
              "    __pydantic_core_schema__: The core schema of the model.\n",
              "    __pydantic_custom_init__: Whether the model has a custom `__init__` function.\n",
              "    __pydantic_decorators__: Metadata containing the decorators defined on the model.\n",
              "        This replaces `Model.__validators__` and `Model.__root_validators__` from Pydantic V1.\n",
              "    __pydantic_generic_metadata__: Metadata for generic models; contains data used for a similar purpose to\n",
              "        __args__, __origin__, __parameters__ in typing-module generics. May eventually be replaced by these.\n",
              "    __pydantic_parent_namespace__: Parent namespace of the model, used for automatic rebuilding of models.\n",
              "    __pydantic_post_init__: The name of the post-init method for the model, if defined.\n",
              "    __pydantic_root_model__: Whether the model is a [`RootModel`][pydantic.root_model.RootModel].\n",
              "    __pydantic_serializer__: The `pydantic-core` `SchemaSerializer` used to dump instances of the model.\n",
              "    __pydantic_validator__: The `pydantic-core` `SchemaValidator` used to validate instances of the model.\n",
              "\n",
              "    __pydantic_extra__: A dictionary containing extra values, if [`extra`][pydantic.config.ConfigDict.extra]\n",
              "        is set to `&#x27;allow&#x27;`.\n",
              "    __pydantic_fields_set__: The names of fields explicitly set during instantiation.\n",
              "    __pydantic_private__: Values of private attributes set on the model instance.</pre>\n",
              "      <script>\n",
              "      if (google.colab.kernel.accessAllowed && google.colab.files && google.colab.files.view) {\n",
              "        for (const element of document.querySelectorAll('.filepath')) {\n",
              "          element.style.display = 'block'\n",
              "          element.onclick = (event) => {\n",
              "            event.preventDefault();\n",
              "            event.stopPropagation();\n",
              "            google.colab.files.view(element.textContent, 23);\n",
              "          };\n",
              "        }\n",
              "      }\n",
              "      for (const element of document.querySelectorAll('.function-repr-contents')) {\n",
              "        element.onclick = (event) => {\n",
              "          event.preventDefault();\n",
              "          event.stopPropagation();\n",
              "          element.classList.toggle('function-repr-contents-collapsed');\n",
              "        };\n",
              "      }\n",
              "      </script>\n",
              "      </div>"
            ],
            "text/plain": [
              "swarm.types.Response"
            ]
          },
          "execution_count": 7,
          "metadata": {},
          "output_type": "execute_result"
        }
      ],
      "source": [
        "type(response)"
      ]
    },
    {
      "cell_type": "code",
      "execution_count": null,
      "metadata": {
        "colab": {
          "base_uri": "https://localhost:8080/"
        },
        "id": "RXWvJ67HQglH",
        "outputId": "52c4f96d-20eb-4369-daa5-2a4f35032e68"
      },
      "outputs": [
        {
          "data": {
            "text/plain": [
              "[{'content': \"D'oh! Just sitting here eating donuts and thinking about Duff Beer. What's up with you?\",\n",
              "  'refusal': None,\n",
              "  'role': 'assistant',\n",
              "  'audio': None,\n",
              "  'function_call': None,\n",
              "  'tool_calls': None,\n",
              "  'sender': 'English Agent'}]"
            ]
          },
          "execution_count": 8,
          "metadata": {},
          "output_type": "execute_result"
        }
      ],
      "source": [
        "response.messages"
      ]
    },
    {
      "cell_type": "markdown",
      "metadata": {
        "id": "EgVjvoYCQihN"
      },
      "source": [
        "Probemos en Español 👀"
      ]
    },
    {
      "cell_type": "code",
      "execution_count": null,
      "metadata": {
        "colab": {
          "base_uri": "https://localhost:8080/"
        },
        "id": "AIX83PACQmK3",
        "outputId": "4ec98ac0-3638-420c-a46f-01f8f6e9d296"
      },
      "outputs": [
        {
          "name": "stdout",
          "output_type": "stream",
          "text": [
            "¡Ahoy, polizón! Estoy tan bien como un tesoro recién descubierto en el fondo del mar. ¿Y tú, cómo te encuentras?\"\n"
          ]
        }
      ],
      "source": [
        "messages = [{\"role\": \"user\", \"content\": \"Hola. ¿Como estás?\"}]\n",
        "response = client.run(agent=english_agent, messages=messages)\n",
        "\n",
        "print(response.messages[-1][\"content\"])"
      ]
    },
    {
      "cell_type": "code",
      "execution_count": null,
      "metadata": {
        "colab": {
          "base_uri": "https://localhost:8080/"
        },
        "id": "BiYql9vsQoRf",
        "outputId": "4786a963-e2a0-443b-a02e-7199946a05a3"
      },
      "outputs": [
        {
          "data": {
            "text/plain": [
              "[{'content': None,\n",
              "  'refusal': None,\n",
              "  'role': 'assistant',\n",
              "  'audio': None,\n",
              "  'function_call': None,\n",
              "  'tool_calls': [{'id': 'call_93yJC1m8QdA97h5VUjc34be1',\n",
              "    'function': {'arguments': '{}', 'name': 'transfer_to_spanish_agent'},\n",
              "    'type': 'function'}],\n",
              "  'sender': 'English Agent'},\n",
              " {'role': 'tool',\n",
              "  'tool_call_id': 'call_93yJC1m8QdA97h5VUjc34be1',\n",
              "  'tool_name': 'transfer_to_spanish_agent',\n",
              "  'content': '{\"assistant\": \"Spanish Agent\"}'},\n",
              " {'content': '¡Ahoy, polizón! Estoy tan bien como un tesoro recién descubierto en el fondo del mar. ¿Y tú, cómo te encuentras?\"',\n",
              "  'refusal': None,\n",
              "  'role': 'assistant',\n",
              "  'audio': None,\n",
              "  'function_call': None,\n",
              "  'tool_calls': None,\n",
              "  'sender': 'Spanish Agent'}]"
            ]
          },
          "execution_count": 10,
          "metadata": {},
          "output_type": "execute_result"
        }
      ],
      "source": [
        "response.messages"
      ]
    },
    {
      "cell_type": "markdown",
      "metadata": {
        "id": "CO2t4rcQfyLE"
      },
      "source": [
        "### Funciones mas trabajadas"
      ]
    },
    {
      "cell_type": "code",
      "execution_count": null,
      "metadata": {
        "colab": {
          "base_uri": "https://localhost:8080/"
        },
        "id": "D2af7037Qs26",
        "outputId": "b6caa9b7-7d1c-4eae-e4f6-db8f98c0cf61"
      },
      "outputs": [
        {
          "name": "stdout",
          "output_type": "stream",
          "text": [
            "La temperatura actual en Madrid es de 25 grados Celsius. ¡Es un día agradable!\n"
          ]
        }
      ],
      "source": [
        "# Definimos una función que nuestro agente puede usar\n",
        "def obtener_temperatura(ubicacion: str) -> str:\n",
        "    # Simulamos una API del clima\n",
        "    return \"{'temperatura': 25, 'unidad': 'C'}\"\n",
        "\n",
        "# Creamos un agente meteorológico\n",
        "agente_clima = Agent(\n",
        "    name=\"Agente Meteorológico\",\n",
        "    instructions=\"\"\"Eres un experto en información meteorológica.\n",
        "    Cuando te pregunten por el clima, usa la función obtener_temperatura\n",
        "    y presenta la información de manera amigable.\"\"\",\n",
        "    functions=[obtener_temperatura]\n",
        ")\n",
        "\n",
        "# Probamos el agente\n",
        "messages = [{\"role\": \"user\", \"content\": \"¿Qué temperatura hace en Madrid?\"}]\n",
        "response = client.run(agent=agente_clima, messages=messages)\n",
        "\n",
        "print(response.messages[-1][\"content\"])"
      ]
    },
    {
      "cell_type": "code",
      "execution_count": null,
      "metadata": {
        "colab": {
          "base_uri": "https://localhost:8080/"
        },
        "id": "is_9CoC0gcNr",
        "outputId": "e58f6bd2-4a79-4e86-84b6-ebe90b38c5c8"
      },
      "outputs": [
        {
          "data": {
            "text/plain": [
              "[{'content': None,\n",
              "  'refusal': None,\n",
              "  'role': 'assistant',\n",
              "  'audio': None,\n",
              "  'function_call': None,\n",
              "  'tool_calls': [{'id': 'call_lXrSEvjqG0BxJSIl5tKWlZbY',\n",
              "    'function': {'arguments': '{\"ubicacion\":\"Madrid\"}',\n",
              "     'name': 'obtener_temperatura'},\n",
              "    'type': 'function'}],\n",
              "  'sender': 'Agente Meteorológico'},\n",
              " {'role': 'tool',\n",
              "  'tool_call_id': 'call_lXrSEvjqG0BxJSIl5tKWlZbY',\n",
              "  'tool_name': 'obtener_temperatura',\n",
              "  'content': \"{'temperatura': 25, 'unidad': 'C'}\"},\n",
              " {'content': 'La temperatura actual en Madrid es de 25 grados Celsius. ¡Es un día agradable!',\n",
              "  'refusal': None,\n",
              "  'role': 'assistant',\n",
              "  'audio': None,\n",
              "  'function_call': None,\n",
              "  'tool_calls': None,\n",
              "  'sender': 'Agente Meteorológico'}]"
            ]
          },
          "execution_count": 13,
          "metadata": {},
          "output_type": "execute_result"
        }
      ],
      "source": [
        "response.messages"
      ]
    },
    {
      "cell_type": "markdown",
      "metadata": {
        "id": "723vxaENf5sv"
      },
      "source": [
        "### Creemos algo real"
      ]
    },
    {
      "cell_type": "code",
      "execution_count": null,
      "metadata": {
        "id": "MFmBSrnfUVH6"
      },
      "outputs": [],
      "source": [
        "from datetime import datetime, timedelta\n",
        "import json\n",
        "from typing import List, Dict, Optional\n",
        "\n",
        "# Simulación de una base de datos simple\n",
        "task_database = {\n",
        "    \"tasks\": {},\n",
        "    \"categories\": [\"Bug\", \"Feature\", \"Documentation\", \"Maintenance\"],\n",
        "    \"priorities\": [\"Low\", \"Medium\", \"High\", \"Critical\"],\n",
        "    \"team_members\": {\n",
        "        \"alice\": {\"role\": \"developer\", \"current_tasks\": 0},\n",
        "        \"bob\": {\"role\": \"developer\", \"current_tasks\": 0},\n",
        "        \"carol\": {\"role\": \"qa\", \"current_tasks\": 0},\n",
        "        \"david\": {\"role\": \"manager\", \"current_tasks\": 0}\n",
        "    }\n",
        "}\n"
      ]
    },
    {
      "cell_type": "code",
      "execution_count": null,
      "metadata": {
        "colab": {
          "base_uri": "https://localhost:8080/"
        },
        "id": "3uMs34uUVaPf",
        "outputId": "cb00cbae-e561-4539-fea6-9975b11509d8"
      },
      "outputs": [
        {
          "data": {
            "text/plain": [
              "{}"
            ]
          },
          "execution_count": 15,
          "metadata": {},
          "output_type": "execute_result"
        }
      ],
      "source": [
        "task_database['tasks']"
      ]
    },
    {
      "cell_type": "code",
      "execution_count": null,
      "metadata": {
        "colab": {
          "base_uri": "https://localhost:8080/"
        },
        "id": "80U2z6MXVOn7",
        "outputId": "f64cb043-f1ee-47b0-be10-f671533ba75a"
      },
      "outputs": [
        {
          "data": {
            "text/plain": [
              "{'alice': {'role': 'developer', 'current_tasks': 0},\n",
              " 'bob': {'role': 'developer', 'current_tasks': 0},\n",
              " 'carol': {'role': 'qa', 'current_tasks': 0},\n",
              " 'david': {'role': 'manager', 'current_tasks': 0}}"
            ]
          },
          "execution_count": 16,
          "metadata": {},
          "output_type": "execute_result"
        }
      ],
      "source": [
        "task_database['team_members']"
      ]
    },
    {
      "cell_type": "code",
      "execution_count": null,
      "metadata": {
        "id": "jo6nM7yVVLzk"
      },
      "outputs": [],
      "source": [
        "\n",
        "def create_task(title: str, description: str, category: str, priority: str, assigned_to: str) -> str:\n",
        "    \"\"\"Crea una nueva tarea en el sistema.\n",
        "\n",
        "    Args:\n",
        "        title: Título de la tarea\n",
        "        description: Descripción detallada\n",
        "        category: Categoría de la tarea (Bug/Feature/Documentation/Maintenance)\n",
        "        priority: Prioridad (Low/Medium/High/Critical)\n",
        "        assigned_to: Nombre del miembro del equipo\n",
        "    \"\"\"\n",
        "    if category not in task_database[\"categories\"]:\n",
        "        return f\"Error: Categoría inválida. Opciones válidas: {task_database['categories']}\"\n",
        "\n",
        "    if priority not in task_database[\"priorities\"]:\n",
        "        return f\"Error: Prioridad inválida. Opciones válidas: {task_database['priorities']}\"\n",
        "\n",
        "    if assigned_to not in task_database[\"team_members\"]:\n",
        "        return f\"Error: Miembro del equipo no encontrado. Miembros disponibles: {list(task_database['team_members'].keys())}\"\n",
        "\n",
        "    task_id = str(len(task_database[\"tasks\"]) + 1)\n",
        "    current_time = datetime.now()\n",
        "\n",
        "    task = {\n",
        "        \"id\": task_id,\n",
        "        \"title\": title,\n",
        "        \"description\": description,\n",
        "        \"category\": category,\n",
        "        \"priority\": priority,\n",
        "        \"assigned_to\": assigned_to,\n",
        "        \"status\": \"New\",\n",
        "        \"created_at\": current_time.isoformat(),\n",
        "        \"updated_at\": current_time.isoformat(),\n",
        "        \"estimated_completion\": (current_time + timedelta(days=7)).isoformat()\n",
        "    }\n",
        "\n",
        "    task_database[\"tasks\"][task_id] = task\n",
        "    task_database[\"team_members\"][assigned_to][\"current_tasks\"] += 1\n",
        "\n",
        "    return f\"Tarea creada con éxito. ID: {task_id}\"\n",
        "\n",
        "def get_team_workload() -> str:\n",
        "    \"\"\"Obtiene el estado actual de la carga de trabajo del equipo.\"\"\"\n",
        "    workload = {\n",
        "        member: {\n",
        "            \"role\": info[\"role\"],\n",
        "            \"current_tasks\": info[\"current_tasks\"]\n",
        "        }\n",
        "        for member, info in task_database[\"team_members\"].items()\n",
        "    }\n",
        "    return json.dumps(workload, indent=2)\n",
        "\n",
        "def get_task_status(task_id: str) -> str:\n",
        "    \"\"\"Obtiene el estado actual de una tarea específica.\n",
        "\n",
        "    Args:\n",
        "        task_id: ID de la tarea a consultar\n",
        "    \"\"\"\n",
        "    if task_id not in task_database[\"tasks\"]:\n",
        "        return f\"Error: Tarea {task_id} no encontrada\"\n",
        "\n",
        "    task = task_database[\"tasks\"][task_id]\n",
        "    return json.dumps(task, indent=2)\n",
        "\n",
        "def update_task_status(task_id: str, new_status: str) -> str:\n",
        "    \"\"\"Actualiza el estado de una tarea.\n",
        "\n",
        "    Args:\n",
        "        task_id: ID de la tarea a actualizar\n",
        "        new_status: Nuevo estado (New/In Progress/Review/Done)\n",
        "    \"\"\"\n",
        "    valid_statuses = [\"New\", \"In Progress\", \"Review\", \"Done\"]\n",
        "\n",
        "    if task_id not in task_database[\"tasks\"]:\n",
        "        return f\"Error: Tarea {task_id} no encontrada\"\n",
        "\n",
        "    if new_status not in valid_statuses:\n",
        "        return f\"Error: Estado inválido. Estados válidos: {valid_statuses}\"\n",
        "\n",
        "    task = task_database[\"tasks\"][task_id]\n",
        "    task[\"status\"] = new_status\n",
        "    task[\"updated_at\"] = datetime.now().isoformat()\n",
        "\n",
        "    return f\"Estado de la tarea {task_id} actualizado a: {new_status}\"\n",
        "\n",
        "def get_high_priority_tasks() -> str:\n",
        "    \"\"\"Obtiene todas las tareas de alta prioridad (High o Critical).\"\"\"\n",
        "    high_priority = {\n",
        "        task_id: task\n",
        "        for task_id, task in task_database[\"tasks\"].items()\n",
        "        if task[\"priority\"] in [\"High\", \"Critical\"]\n",
        "    }\n",
        "    return json.dumps(high_priority, indent=2)\n",
        "\n",
        "# Creación del agente de gestión de tareas\n",
        "task_manager_agent = Agent(\n",
        "    name=\"Task Manager\",\n",
        "    instructions=\"\"\"Eres un asistente especializado en gestión de tareas y proyectos.\n",
        "\n",
        "    Tus responsabilidades incluyen:\n",
        "    1. Crear nuevas tareas basadas en las solicitudes de los usuarios\n",
        "    2. Asignar tareas a los miembros del equipo más apropiados\n",
        "    3. Monitorear la carga de trabajo del equipo\n",
        "    4. Actualizar estados de tareas\n",
        "    5. Proporcionar informes de estado\n",
        "\n",
        "    Antes de crear una tarea:\n",
        "    - Verifica que toda la información necesaria esté disponible\n",
        "    - Considera la carga de trabajo actual del equipo\n",
        "    - Prioriza adecuadamente basado en la descripción\n",
        "\n",
        "    Al asignar tareas:\n",
        "    - Revisa la carga actual de trabajo de cada miembro\n",
        "    - Considera los roles y experiencia\n",
        "    - Mantén una distribución equilibrada\n",
        "\n",
        "    Usa un tono profesional pero amigable, y siempre confirma las acciones importantes.\"\"\",\n",
        "    functions=[\n",
        "        create_task,\n",
        "        get_team_workload,\n",
        "        get_task_status,\n",
        "        update_task_status,\n",
        "        get_high_priority_tasks\n",
        "    ]\n",
        ")\n"
      ]
    },
    {
      "cell_type": "code",
      "execution_count": null,
      "metadata": {
        "colab": {
          "base_uri": "https://localhost:8080/"
        },
        "id": "VXs6MiebUuhx",
        "outputId": "1c273dd6-6dc6-404e-c188-fe47f020cacb"
      },
      "outputs": [
        {
          "name": "stdout",
          "output_type": "stream",
          "text": [
            "\n",
            "Creación de tarea:\n",
            "La tarea para corregir el bug crítico en la página de login ha sido creada con éxito y asignada a Alice. El ID de la tarea es 1.\n",
            "\n",
            "Si necesitas más ayuda o seguimiento, no dudes en decirlo.\n"
          ]
        }
      ],
      "source": [
        "# Ejemplo 1: Crear una nueva tarea\n",
        "messages = [{\n",
        "    \"role\": \"user\",\n",
        "    \"content\": \"\"\"Necesito crear una tarea para arreglar un bug crítico en la página de login.\n",
        "    El formulario no está validando correctamente los campos de correo electrónico.\"\"\"\n",
        "}]\n",
        "\n",
        "response = client.run(agent=task_manager_agent, messages=messages)\n",
        "print(\"\\nCreación de tarea:\")\n",
        "print(response.messages[-1][\"content\"])"
      ]
    },
    {
      "cell_type": "code",
      "execution_count": null,
      "metadata": {
        "colab": {
          "base_uri": "https://localhost:8080/"
        },
        "id": "kPmz-b_oVfKy",
        "outputId": "81918dc7-37e1-4b97-8f98-de9a16108f83"
      },
      "outputs": [
        {
          "data": {
            "text/plain": [
              "{'1': {'id': '1',\n",
              "  'title': 'Corrección de bug crítico en la página de login',\n",
              "  'description': 'El formulario no está validando correctamente los campos de correo electrónico.',\n",
              "  'category': 'Bug',\n",
              "  'priority': 'Critical',\n",
              "  'assigned_to': 'alice',\n",
              "  'status': 'New',\n",
              "  'created_at': '2024-10-28T00:30:52.822710',\n",
              "  'updated_at': '2024-10-28T00:30:52.822710',\n",
              "  'estimated_completion': '2024-11-04T00:30:52.822710'}}"
            ]
          },
          "execution_count": 19,
          "metadata": {},
          "output_type": "execute_result"
        }
      ],
      "source": [
        "task_database['tasks']"
      ]
    },
    {
      "cell_type": "code",
      "execution_count": null,
      "metadata": {
        "colab": {
          "base_uri": "https://localhost:8080/"
        },
        "id": "t2lnqW1iVgkx",
        "outputId": "81924951-dd05-478e-e19c-1a0742eea314"
      },
      "outputs": [
        {
          "data": {
            "text/plain": [
              "{'alice': {'role': 'developer', 'current_tasks': 1},\n",
              " 'bob': {'role': 'developer', 'current_tasks': 0},\n",
              " 'carol': {'role': 'qa', 'current_tasks': 0},\n",
              " 'david': {'role': 'manager', 'current_tasks': 0}}"
            ]
          },
          "execution_count": 20,
          "metadata": {},
          "output_type": "execute_result"
        }
      ],
      "source": [
        "task_database['team_members']"
      ]
    },
    {
      "cell_type": "code",
      "execution_count": null,
      "metadata": {
        "colab": {
          "base_uri": "https://localhost:8080/"
        },
        "id": "2G0Y-BwFU3yL",
        "outputId": "7349beae-e261-4653-c2fc-2b971b79c6d6"
      },
      "outputs": [
        {
          "name": "stdout",
          "output_type": "stream",
          "text": [
            "\n",
            "Carga de trabajo:\n",
            "Actualmente, la carga de trabajo del equipo es la siguiente:\n",
            "\n",
            "- **Alice** (Desarrolladora): 1 tarea\n",
            "- **Bob** (Desarrollador): 1 tarea\n",
            "- **Carol** (QA): 0 tareas\n",
            "- **David** (Manager): 0 tareas\n",
            "\n",
            "Puedo proceder a crear la tarea y asignarla a uno de los desarrolladores. Parece que tanto Alice como Bob tienen la misma carga de trabajo. ¿Tienes alguna preferencia sobre a quién asignar esta tarea? Si no, elegiré basándome en otros criterios.\n"
          ]
        }
      ],
      "source": [
        "# Ejemplo 2: Verificar la carga de trabajo\n",
        "messages.append({\n",
        "    \"role\": \"user\",\n",
        "    \"content\": \"¿Cuál es la carga actual de trabajo del equipo?\"\n",
        "})\n",
        "\n",
        "response = client.run(agent=task_manager_agent, messages=messages)\n",
        "print(\"\\nCarga de trabajo:\")\n",
        "print(response.messages[-1][\"content\"])\n"
      ]
    },
    {
      "cell_type": "code",
      "execution_count": null,
      "metadata": {
        "colab": {
          "base_uri": "https://localhost:8080/"
        },
        "id": "2LKCIX8HizC6",
        "outputId": "f03d30ac-2181-4ec7-9249-b2c17a988e33"
      },
      "outputs": [
        {
          "data": {
            "text/plain": [
              "[{'content': None,\n",
              "  'refusal': None,\n",
              "  'role': 'assistant',\n",
              "  'audio': None,\n",
              "  'function_call': None,\n",
              "  'tool_calls': [{'id': 'call_15QIFBHgKgNoYnVfMltqqbj2',\n",
              "    'function': {'arguments': '{}', 'name': 'get_team_workload'},\n",
              "    'type': 'function'}],\n",
              "  'sender': 'Task Manager'},\n",
              " {'role': 'tool',\n",
              "  'tool_call_id': 'call_15QIFBHgKgNoYnVfMltqqbj2',\n",
              "  'tool_name': 'get_team_workload',\n",
              "  'content': '{\\n  \"alice\": {\\n    \"role\": \"developer\",\\n    \"current_tasks\": 1\\n  },\\n  \"bob\": {\\n    \"role\": \"developer\",\\n    \"current_tasks\": 1\\n  },\\n  \"carol\": {\\n    \"role\": \"qa\",\\n    \"current_tasks\": 0\\n  },\\n  \"david\": {\\n    \"role\": \"manager\",\\n    \"current_tasks\": 0\\n  }\\n}'},\n",
              " {'content': 'Actualmente, la carga de trabajo del equipo es la siguiente:\\n\\n- **Alice** (Desarrolladora): 1 tarea\\n- **Bob** (Desarrollador): 1 tarea\\n- **Carol** (QA): 0 tareas\\n- **David** (Manager): 0 tareas\\n\\nPuedo proceder a crear la tarea y asignarla a uno de los desarrolladores. Parece que tanto Alice como Bob tienen la misma carga de trabajo. ¿Tienes alguna preferencia sobre a quién asignar esta tarea? Si no, elegiré basándome en otros criterios.',\n",
              "  'refusal': None,\n",
              "  'role': 'assistant',\n",
              "  'audio': None,\n",
              "  'function_call': None,\n",
              "  'tool_calls': None,\n",
              "  'sender': 'Task Manager'}]"
            ]
          },
          "execution_count": 25,
          "metadata": {},
          "output_type": "execute_result"
        }
      ],
      "source": [
        "response.messages"
      ]
    },
    {
      "cell_type": "code",
      "execution_count": null,
      "metadata": {
        "colab": {
          "base_uri": "https://localhost:8080/"
        },
        "id": "_zDaGJ28igJ0",
        "outputId": "150f2cb5-7005-45a5-a088-1a809e8aa371"
      },
      "outputs": [
        {
          "data": {
            "text/plain": [
              "{'content': 'La tarea para arreglar el bug crítico en la página de login ha sido creada con éxito y asignada a Bob. El ID de la tarea es **2**. Si necesitas realizar algún seguimiento adicional o tienes más solicitudes, no dudes en decírmelo.',\n",
              " 'refusal': None,\n",
              " 'role': 'assistant',\n",
              " 'audio': None,\n",
              " 'function_call': None,\n",
              " 'tool_calls': None,\n",
              " 'sender': 'Task Manager'}"
            ]
          },
          "execution_count": 22,
          "metadata": {},
          "output_type": "execute_result"
        }
      ],
      "source": [
        "response.messages[-1]"
      ]
    },
    {
      "cell_type": "code",
      "execution_count": null,
      "metadata": {
        "colab": {
          "base_uri": "https://localhost:8080/"
        },
        "id": "FQQn5YVLU5EB",
        "outputId": "ec2c2e5b-e97c-48ad-e2d5-09c8de80c7a8"
      },
      "outputs": [
        {
          "name": "stdout",
          "output_type": "stream",
          "text": [
            "\n",
            "Tareas de alta prioridad:\n",
            "Actualmente, el equipo tiene la siguiente carga de trabajo:\n",
            "\n",
            "- **Alice**: 1 tarea asignada (rol: Desarrolladora)\n",
            "- **Bob**: 1 tarea asignada (rol: Desarrollador)\n",
            "- **Carol**: 0 tareas asignadas (rol: QA)\n",
            "- **David**: 0 tareas asignadas (rol: Gerente)\n",
            "\n",
            "Aquí tienes todas las tareas de alta prioridad:\n",
            "\n",
            "1. **Corrección de bug crítico en la página de login**\n",
            "   - Descripción: El formulario no está validando correctamente los campos de correo electrónico.\n",
            "   - Categoría: Bug\n",
            "   - Prioridad: Critical\n",
            "   - Asignado a: Alice\n",
            "\n",
            "2. **Arreglar bug crítico en la validación del formulario de login**\n",
            "   - Descripción: El formulario de la página de login no está validando correctamente los campos de correo electrónico. Necesita ser revisado y corregido cuanto antes.\n",
            "   - Categoría: Bug\n",
            "   - Prioridad: Critical\n",
            "   - Asignado a: Bob\n",
            "\n",
            "Parece que la tarea que deseas crear ya está registrada y asignada. ¿Hay algo más en lo que pueda asistirte?\n"
          ]
        }
      ],
      "source": [
        "# Ejemplo 3: Obtener tareas de alta prioridad\n",
        "messages.append({\n",
        "    \"role\": \"user\",\n",
        "    \"content\": \"Muéstrame todas las tareas de alta prioridad\"\n",
        "})\n",
        "\n",
        "response = client.run(agent=task_manager_agent, messages=messages)\n",
        "print(\"\\nTareas de alta prioridad:\")\n",
        "print(response.messages[-1][\"content\"])"
      ]
    },
    {
      "cell_type": "code",
      "execution_count": null,
      "metadata": {
        "colab": {
          "base_uri": "https://localhost:8080/"
        },
        "id": "O6bLcRO2WXKX",
        "outputId": "459fd391-36b6-42e8-9e38-dd7a3e2925b1"
      },
      "outputs": [
        {
          "name": "stdout",
          "output_type": "stream",
          "text": [
            "La tarea 1, titulada \"Corrección de bug crítico en la página de login\", actualmente está en estado **New**. Esta tarea, asignada a Alice, se centra en corregir un problema donde el formulario no está validando correctamente los campos de correo electrónico. La tarea tiene una prioridad **crítica** y se estima que se completará para el 4 de noviembre de 2024.\n"
          ]
        }
      ],
      "source": [
        "# Ejemplo 4: Estatus de la tarea\n",
        "\n",
        "messages = [{\n",
        "    \"role\": \"user\",\n",
        "    \"content\": \"\"\"Cual es el estado actual de la tarea 1?\"\"\"\n",
        "}]\n",
        "\n",
        "\n",
        "response = client.run(agent=task_manager_agent, messages=messages)\n",
        "print(response.messages[-1][\"content\"])"
      ]
    },
    {
      "cell_type": "code",
      "execution_count": null,
      "metadata": {
        "colab": {
          "base_uri": "https://localhost:8080/"
        },
        "id": "iSno3iaiWgTC",
        "outputId": "08e85e25-2366-45c4-d80a-ae242d6b08c3"
      },
      "outputs": [
        {
          "data": {
            "text/plain": [
              "[{'content': None,\n",
              "  'refusal': None,\n",
              "  'role': 'assistant',\n",
              "  'audio': None,\n",
              "  'function_call': None,\n",
              "  'tool_calls': [{'id': 'call_xbtgC7KCQV8S0IuoCcOhws60',\n",
              "    'function': {'arguments': '{\"task_id\":\"1\"}', 'name': 'get_task_status'},\n",
              "    'type': 'function'}],\n",
              "  'sender': 'Task Manager'},\n",
              " {'role': 'tool',\n",
              "  'tool_call_id': 'call_xbtgC7KCQV8S0IuoCcOhws60',\n",
              "  'tool_name': 'get_task_status',\n",
              "  'content': '{\\n  \"id\": \"1\",\\n  \"title\": \"Correcci\\\\u00f3n de bug cr\\\\u00edtico en la p\\\\u00e1gina de login\",\\n  \"description\": \"El formulario no est\\\\u00e1 validando correctamente los campos de correo electr\\\\u00f3nico.\",\\n  \"category\": \"Bug\",\\n  \"priority\": \"Critical\",\\n  \"assigned_to\": \"alice\",\\n  \"status\": \"New\",\\n  \"created_at\": \"2024-10-28T00:30:52.822710\",\\n  \"updated_at\": \"2024-10-28T00:30:52.822710\",\\n  \"estimated_completion\": \"2024-11-04T00:30:52.822710\"\\n}'},\n",
              " {'content': 'La tarea 1, titulada \"Corrección de bug crítico en la página de login\", actualmente está en estado **New**. Esta tarea, asignada a Alice, se centra en corregir un problema donde el formulario no está validando correctamente los campos de correo electrónico. La tarea tiene una prioridad **crítica** y se estima que se completará para el 4 de noviembre de 2024.',\n",
              "  'refusal': None,\n",
              "  'role': 'assistant',\n",
              "  'audio': None,\n",
              "  'function_call': None,\n",
              "  'tool_calls': None,\n",
              "  'sender': 'Task Manager'}]"
            ]
          },
          "execution_count": 28,
          "metadata": {},
          "output_type": "execute_result"
        }
      ],
      "source": [
        "response.messages"
      ]
    }
  ],
  "metadata": {
    "colab": {
      "authorship_tag": "ABX9TyPenQrtQlVFWSoxLYeoPyts",
      "include_colab_link": true,
      "provenance": []
    },
    "kernelspec": {
      "display_name": "Python 3",
      "name": "python3"
    },
    "language_info": {
      "name": "python"
    }
  },
  "nbformat": 4,
  "nbformat_minor": 0
}
